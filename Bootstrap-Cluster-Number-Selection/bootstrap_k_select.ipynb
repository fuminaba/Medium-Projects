{
 "cells": [
  {
   "cell_type": "markdown",
   "metadata": {},
   "source": [
    "# Bootstrap Method to Select $k$, The Number of Clusters"
   ]
  },
  {
   "cell_type": "code",
   "execution_count": 1,
   "metadata": {},
   "outputs": [],
   "source": [
    "import pandas as pd\n",
    "\n",
    "from sklearn.cluster import KMeans\n",
    "from sklearn.mixture import GaussianMixture\n",
    "from sklearn.datasets import make_blobs, make_moons\n",
    "\n"
   ]
  },
  {
   "cell_type": "code",
   "execution_count": null,
   "metadata": {},
   "outputs": [],
   "source": []
  },
  {
   "cell_type": "code",
   "execution_count": null,
   "metadata": {},
   "outputs": [],
   "source": [
    "sample_size = 1_000\n",
    "moons_data, moons_cluster_id = make_moons(n_samples = sample_size, \n",
    "                                          noise = True, \n",
    "                                          random_state = 2380)\n",
    "blobs_data, blobs_cluster_id = make_blobs(n_samples = sample_size, \n",
    "                                          centers = 3, \n",
    "                                          random_state = 2380)\n",
    "\n",
    "moons_df = pd.DataFrame(moons_data, columns = [])"
   ]
  }
 ],
 "metadata": {
  "kernelspec": {
   "display_name": "pathomics-tf",
   "language": "python",
   "name": "python3"
  },
  "language_info": {
   "codemirror_mode": {
    "name": "ipython",
    "version": 3
   },
   "file_extension": ".py",
   "mimetype": "text/x-python",
   "name": "python",
   "nbconvert_exporter": "python",
   "pygments_lexer": "ipython3",
   "version": "3.10.13"
  }
 },
 "nbformat": 4,
 "nbformat_minor": 2
}
